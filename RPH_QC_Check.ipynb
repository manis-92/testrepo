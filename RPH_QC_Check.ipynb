{
 "cells": [
  {
   "cell_type": "markdown",
   "metadata": {},
   "source": [
    "## Checking for encoding of the file (UTF-8)"
   ]
  },
  {
   "cell_type": "code",
   "execution_count": 14,
   "metadata": {},
   "outputs": [
    {
     "name": "stdout",
     "output_type": "stream",
     "text": [
      "Valid utf-8\n"
     ]
    }
   ],
   "source": [
    "\n",
    "\n",
    "import codecs\n",
    "try:\n",
    "    f = codecs.open(\"AGN_EU_RPH_Veeva_20200909.csv\", encoding='utf-8', errors='strict')\n",
    "    for line in f:\n",
    "        pass\n",
    "    print (\"Valid utf-8\")\n",
    "except UnicodeDecodeError:\n",
    "    print (\"invalid utf-8\")\n",
    "\n",
    "# columns = pd.Series(df.columns)\n",
    "\n",
    "# # print(type(columns[0]))\n",
    "# # result = columns.str.decode(encoding='UTF-8')\n",
    "# # print(result)\n",
    "# columns.str.decode(encoding ='UTF-8')"
   ]
  },
  {
   "cell_type": "code",
   "execution_count": 15,
   "metadata": {},
   "outputs": [
    {
     "data": {
      "text/html": [
       "<div>\n",
       "<style scoped>\n",
       "    .dataframe tbody tr th:only-of-type {\n",
       "        vertical-align: middle;\n",
       "    }\n",
       "\n",
       "    .dataframe tbody tr th {\n",
       "        vertical-align: top;\n",
       "    }\n",
       "\n",
       "    .dataframe thead th {\n",
       "        text-align: right;\n",
       "    }\n",
       "</style>\n",
       "<table border=\"1\" class=\"dataframe\">\n",
       "  <thead>\n",
       "    <tr style=\"text-align: right;\">\n",
       "      <th></th>\n",
       "      <th>BusinessCode</th>\n",
       "      <th>BusinessName</th>\n",
       "      <th>FranchiseCode</th>\n",
       "      <th>FranchiseName</th>\n",
       "      <th>ProductLineCode</th>\n",
       "      <th>ProductLineDesc</th>\n",
       "      <th>ProductGroupCode</th>\n",
       "      <th>ProductGroupDesc</th>\n",
       "      <th>ProductSubGroup</th>\n",
       "      <th>InternationalBrandDesc</th>\n",
       "      <th>BrandDesc</th>\n",
       "      <th>ProductPack</th>\n",
       "      <th>ProductCode</th>\n",
       "      <th>ProductName</th>\n",
       "      <th>Country_Code</th>\n",
       "      <th>ManufacturerName</th>\n",
       "    </tr>\n",
       "  </thead>\n",
       "  <tbody>\n",
       "    <tr>\n",
       "      <th>0</th>\n",
       "      <td>MA</td>\n",
       "      <td>Medical Aesthetics</td>\n",
       "      <td>BC</td>\n",
       "      <td>Body Contouring</td>\n",
       "      <td>BC</td>\n",
       "      <td>Body Contouring</td>\n",
       "      <td>BC</td>\n",
       "      <td>Body Contouring</td>\n",
       "      <td>Body Contouring</td>\n",
       "      <td>Body Contouring</td>\n",
       "      <td>Body Contouring</td>\n",
       "      <td>Body Contouring</td>\n",
       "      <td>a002400000bJJkaAAG</td>\n",
       "      <td>BODY CONTOURING_FI</td>\n",
       "      <td>FI</td>\n",
       "      <td>Allergan</td>\n",
       "    </tr>\n",
       "    <tr>\n",
       "      <th>1</th>\n",
       "      <td>MA</td>\n",
       "      <td>Medical Aesthetics</td>\n",
       "      <td>BC</td>\n",
       "      <td>Body Contouring</td>\n",
       "      <td>BC</td>\n",
       "      <td>Body Contouring</td>\n",
       "      <td>BC</td>\n",
       "      <td>Body Contouring</td>\n",
       "      <td>Body Contouring</td>\n",
       "      <td>Body Contouring</td>\n",
       "      <td>Body Contouring</td>\n",
       "      <td>Body Contouring</td>\n",
       "      <td>a002400000bJJldAAG</td>\n",
       "      <td>BODY CONTOURING_PL</td>\n",
       "      <td>PL</td>\n",
       "      <td>Allergan</td>\n",
       "    </tr>\n",
       "    <tr>\n",
       "      <th>2</th>\n",
       "      <td>MA</td>\n",
       "      <td>Medical Aesthetics</td>\n",
       "      <td>BC</td>\n",
       "      <td>Body Contouring</td>\n",
       "      <td>BC</td>\n",
       "      <td>Body Contouring</td>\n",
       "      <td>BC</td>\n",
       "      <td>Body Contouring</td>\n",
       "      <td>Body Contouring</td>\n",
       "      <td>Body Contouring</td>\n",
       "      <td>Body Contouring</td>\n",
       "      <td>Body Contouring</td>\n",
       "      <td>a002400000bJK1bAAG</td>\n",
       "      <td>BC_FI</td>\n",
       "      <td>FI</td>\n",
       "      <td>Allergan</td>\n",
       "    </tr>\n",
       "    <tr>\n",
       "      <th>3</th>\n",
       "      <td>MA</td>\n",
       "      <td>Medical Aesthetics</td>\n",
       "      <td>BC</td>\n",
       "      <td>Body Contouring</td>\n",
       "      <td>BC</td>\n",
       "      <td>Body Contouring</td>\n",
       "      <td>BC</td>\n",
       "      <td>Body Contouring</td>\n",
       "      <td>Body Contouring</td>\n",
       "      <td>Body Contouring</td>\n",
       "      <td>Body Contouring</td>\n",
       "      <td>Body Contouring</td>\n",
       "      <td>a002400000bJK1hAAG</td>\n",
       "      <td>BC_PL</td>\n",
       "      <td>PL</td>\n",
       "      <td>Allergan</td>\n",
       "    </tr>\n",
       "    <tr>\n",
       "      <th>4</th>\n",
       "      <td>MA</td>\n",
       "      <td>Medical Aesthetics</td>\n",
       "      <td>BC</td>\n",
       "      <td>Body Contouring</td>\n",
       "      <td>BC</td>\n",
       "      <td>Body Contouring</td>\n",
       "      <td>BC</td>\n",
       "      <td>Body Contouring</td>\n",
       "      <td>Body Contouring</td>\n",
       "      <td>Body Contouring</td>\n",
       "      <td>Body Contouring</td>\n",
       "      <td>Body Contouring</td>\n",
       "      <td>a002400000bJK1jAAG</td>\n",
       "      <td>BC_SE</td>\n",
       "      <td>SE</td>\n",
       "      <td>Allergan</td>\n",
       "    </tr>\n",
       "  </tbody>\n",
       "</table>\n",
       "</div>"
      ],
      "text/plain": [
       "  BusinessCode        BusinessName FranchiseCode    FranchiseName  \\\n",
       "0           MA  Medical Aesthetics            BC  Body Contouring   \n",
       "1           MA  Medical Aesthetics            BC  Body Contouring   \n",
       "2           MA  Medical Aesthetics            BC  Body Contouring   \n",
       "3           MA  Medical Aesthetics            BC  Body Contouring   \n",
       "4           MA  Medical Aesthetics            BC  Body Contouring   \n",
       "\n",
       "  ProductLineCode  ProductLineDesc ProductGroupCode ProductGroupDesc  \\\n",
       "0              BC  Body Contouring               BC  Body Contouring   \n",
       "1              BC  Body Contouring               BC  Body Contouring   \n",
       "2              BC  Body Contouring               BC  Body Contouring   \n",
       "3              BC  Body Contouring               BC  Body Contouring   \n",
       "4              BC  Body Contouring               BC  Body Contouring   \n",
       "\n",
       "   ProductSubGroup InternationalBrandDesc        BrandDesc      ProductPack  \\\n",
       "0  Body Contouring        Body Contouring  Body Contouring  Body Contouring   \n",
       "1  Body Contouring        Body Contouring  Body Contouring  Body Contouring   \n",
       "2  Body Contouring        Body Contouring  Body Contouring  Body Contouring   \n",
       "3  Body Contouring        Body Contouring  Body Contouring  Body Contouring   \n",
       "4  Body Contouring        Body Contouring  Body Contouring  Body Contouring   \n",
       "\n",
       "          ProductCode         ProductName Country_Code ManufacturerName  \n",
       "0  a002400000bJJkaAAG  BODY CONTOURING_FI           FI         Allergan  \n",
       "1  a002400000bJJldAAG  BODY CONTOURING_PL           PL         Allergan  \n",
       "2  a002400000bJK1bAAG               BC_FI           FI         Allergan  \n",
       "3  a002400000bJK1hAAG               BC_PL           PL         Allergan  \n",
       "4  a002400000bJK1jAAG               BC_SE           SE         Allergan  "
      ]
     },
     "execution_count": 15,
     "metadata": {},
     "output_type": "execute_result"
    }
   ],
   "source": [
    "import pandas as pd\n",
    "import numpy as np\n",
    "\n",
    "df  =pd.read_csv(\"AGN_EU_RPH_Veeva_20200909.csv\",error_bad_lines=False)\n",
    "\n",
    "df.head()"
   ]
  },
  {
   "cell_type": "code",
   "execution_count": 16,
   "metadata": {},
   "outputs": [
    {
     "data": {
      "text/plain": [
       "(array([ 138,  139,  253,  258,  263,  266,  271,  272,  273,  804,  805,\n",
       "        1095, 1117, 1276, 1313, 1314, 1315, 1316, 1317, 1381, 1469, 1470,\n",
       "        1486, 1581, 1592, 1628, 1639, 1640, 1699, 1701, 1711, 1712, 1715,\n",
       "        1716, 1720, 1721, 1724, 1725, 1758, 1760, 1768, 1780, 1817, 1855,\n",
       "        1859, 1861, 1862, 1865, 1866, 1872, 1874, 1875, 1954, 1955, 1956,\n",
       "        1957, 1958, 1959, 1960, 1961, 1962, 1963, 1980, 1982, 1986, 1987,\n",
       "        1994, 1995, 1997, 1998, 2000, 2009, 2011, 2012, 2019, 2230, 2423,\n",
       "        2426, 2438, 2462, 2463, 2503, 2524, 2525, 2526, 2527, 2528, 2557,\n",
       "        2571, 2890, 2891, 2892, 2893, 2895, 2898, 3203, 3204, 3645, 3679,\n",
       "        3681, 3683, 4559, 4561, 4590, 4851, 4852, 4853, 4854, 4855, 4856,\n",
       "        4857, 4858, 4859, 4860, 4861, 4862, 4863, 4864, 4865, 4866, 4867,\n",
       "        4868, 4870, 4871, 4872, 4873, 4874, 4875, 4876, 4877, 4878, 4945,\n",
       "        5517, 5548, 5554, 5604, 5609, 5669, 5697, 5700, 5814, 5819, 5820],\n",
       "       dtype=int64),\n",
       " array([14, 14, 14, 14, 14, 14, 14, 14, 14, 14, 14, 14, 14, 14, 14, 14, 14,\n",
       "        14, 14, 14, 14, 14, 14, 14, 14, 14, 14, 14, 14, 14, 14, 14, 14, 14,\n",
       "        14, 14, 14, 14, 14, 14, 14, 14, 14, 14, 14, 14, 14, 14, 14, 14, 14,\n",
       "        14, 14, 14, 14, 14, 14, 14, 14, 14, 14, 14, 14, 14, 14, 14, 14, 14,\n",
       "        14, 14, 14, 14, 14, 14, 14, 14, 14, 14, 14, 14, 14, 14, 14, 14, 14,\n",
       "        14, 14, 14, 14, 14, 14, 14, 14, 14, 14, 14, 14, 14, 14, 14, 14, 14,\n",
       "        14, 14, 14, 14, 14, 14, 14, 14, 14, 14, 14, 14, 14, 14, 14, 14, 14,\n",
       "        14, 14, 14, 14, 14, 14, 14, 14, 14, 14, 14, 14, 14, 14, 14, 14, 14,\n",
       "        14, 14, 14, 14, 14, 14, 14], dtype=int64))"
      ]
     },
     "execution_count": 16,
     "metadata": {},
     "output_type": "execute_result"
    }
   ],
   "source": [
    "#To check for Nulls in the file i.e NA \n",
    "\n",
    "np.where(pd.isnull(df))\n",
    "\n"
   ]
  },
  {
   "cell_type": "code",
   "execution_count": 17,
   "metadata": {},
   "outputs": [
    {
     "data": {
      "text/plain": [
       "BusinessCode                0\n",
       "BusinessName                0\n",
       "FranchiseCode               0\n",
       "FranchiseName               0\n",
       "ProductLineCode             0\n",
       "ProductLineDesc             0\n",
       "ProductGroupCode            0\n",
       "ProductGroupDesc            0\n",
       "ProductSubGroup             0\n",
       "InternationalBrandDesc      0\n",
       "BrandDesc                   0\n",
       "ProductPack                 0\n",
       "ProductCode                 0\n",
       "ProductName                 0\n",
       "Country_Code              143\n",
       "ManufacturerName            0\n",
       "dtype: int64"
      ]
     },
     "execution_count": 17,
     "metadata": {},
     "output_type": "execute_result"
    }
   ],
   "source": [
    "#TO check for any NAN's in the data \n",
    "pd.isnull(df).sum()"
   ]
  },
  {
   "cell_type": "markdown",
   "metadata": {},
   "source": [
    "## To check for empty strings"
   ]
  },
  {
   "cell_type": "code",
   "execution_count": 18,
   "metadata": {},
   "outputs": [
    {
     "name": "stdout",
     "output_type": "stream",
     "text": [
      "Int64Index([], dtype='int64')\n",
      "Int64Index([], dtype='int64')\n",
      "Int64Index([], dtype='int64')\n",
      "Int64Index([], dtype='int64')\n",
      "Int64Index([], dtype='int64')\n",
      "Int64Index([], dtype='int64')\n",
      "Int64Index([], dtype='int64')\n",
      "Int64Index([], dtype='int64')\n",
      "Int64Index([], dtype='int64')\n",
      "Int64Index([], dtype='int64')\n",
      "Int64Index([], dtype='int64')\n",
      "Int64Index([], dtype='int64')\n",
      "Int64Index([], dtype='int64')\n",
      "Int64Index([], dtype='int64')\n",
      "Int64Index([], dtype='int64')\n",
      "Int64Index([], dtype='int64')\n"
     ]
    }
   ],
   "source": [
    "#To check empty cells \n",
    "for col in df.columns:\n",
    "\n",
    "    print(df[df[col] == ''].index)\n",
    "    "
   ]
  },
  {
   "cell_type": "markdown",
   "metadata": {},
   "source": [
    "## Validating the header"
   ]
  },
  {
   "cell_type": "code",
   "execution_count": 19,
   "metadata": {},
   "outputs": [],
   "source": [
    "# CORRECT HEADERS\n",
    "\n",
    "header_veeva = [\"BusinessCode\",\"BusinessName\",\"FranchiseCode\",\"FranchiseName\",\"ProductLineCode\",\"ProductLineDesc\",\"ProductGroupCode\",\"ProductGroupDesc\",\"ProductSubGroup\",\"InternationalBrandDesc\",\"BrandDesc\",\"ProductPack\",\"ProductCode\",\"ProductName\",\"Country_Code\",\"ManufacturerName\"]\n",
    "header_sap = [\"BusinessCode\",\"BusinessName\",\"FranchiseCode\",\"FranchiseName\",\"ProductLineCode\",\"ProductLineDesc\",\"ProductGroupCode\",\"ProductGroupDesc\",\"ProductSubGroup\",\"InternationalBrandDesc\",\"BrandDesc\",\"ProductPack\",\"MaterialCode\",\"MaterialDesc\",\"DefaultProductFlag\",\"ManufacturerName\",\"Country_Code\"]\n",
    "header_ims = [\"BusinessCode\",\"BusinessName\",\"FranchiseCode\",\"FranchiseName\",\"ProductLineCode\",\"ProductLineDesc\",\"ProductGroupCode\",\"ProductGroupDesc\",\"ProductSubGroup\",\"InternationalBrandDesc\",\"BrandDesc\",\"ProductPack\",\"ProductCode\",\"ProductName\",\"Country_Code\",\"ManufacturerName\"]"
   ]
  },
  {
   "cell_type": "code",
   "execution_count": 21,
   "metadata": {},
   "outputs": [
    {
     "data": {
      "text/plain": [
       "True"
      ]
     },
     "execution_count": 21,
     "metadata": {},
     "output_type": "execute_result"
    }
   ],
   "source": [
    "#when comparing for different file == expresions should be according to the file \n",
    "\n",
    "list(df.columns) == header_veeva"
   ]
  },
  {
   "cell_type": "code",
   "execution_count": null,
   "metadata": {},
   "outputs": [],
   "source": []
  }
 ],
 "metadata": {
  "kernelspec": {
   "display_name": "Python 3",
   "language": "python",
   "name": "python3"
  },
  "language_info": {
   "codemirror_mode": {
    "name": "ipython",
    "version": 3
   },
   "file_extension": ".py",
   "mimetype": "text/x-python",
   "name": "python",
   "nbconvert_exporter": "python",
   "pygments_lexer": "ipython3",
   "version": "3.7.3"
  }
 },
 "nbformat": 4,
 "nbformat_minor": 2
}
